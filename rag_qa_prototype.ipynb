{
  "cells": [
    {
      "cell_type": "markdown",
      "metadata": {
        "id": "3T1sSIxFaKiA"
      },
      "source": [
        "### Libraries"
      ]
    },
    {
      "cell_type": "code",
      "execution_count": null,
      "metadata": {
        "colab": {
          "base_uri": "https://localhost:8080/"
        },
        "id": "-LJd7pmzO_KM",
        "outputId": "3a1d770b-6bd0-4f66-e7f1-7500b3b923a3"
      },
      "outputs": [],
      "source": [
        "# !pip install langchain==0.1.7 --quiet\n",
        "!pip install langchain==0.1.10 --quiet\n",
        "!pip install transformers --quiet\n",
        "!pip install sentence-transformers --quiet\n",
        "!pip install chromadb --quiet\n",
        "!pip install pypdf --quiet\n",
        "!pip install openai --quiet\n",
        "!pip install langchain-openai --quiet"
      ]
    },
    {
      "cell_type": "markdown",
      "metadata": {
        "id": "aGswWL5jFVnE"
      },
      "source": [
        "**Package related issues**\n",
        "* `langchain > 0.1.7` might give error on `.invoke()` while working with HuggingFace Models\n",
        "* Shows deprecation warning if `langchain.chat_models import ChatOpenAI` is used."
      ]
    },
    {
      "cell_type": "code",
      "execution_count": 2,
      "metadata": {
        "colab": {
          "base_uri": "https://localhost:8080/"
        },
        "id": "6rVd5IWSb2tY",
        "outputId": "f641c5cb-add9-47c3-a5bf-195b9be3b6e8"
      },
      "outputs": [
        {
          "name": "stdout",
          "output_type": "stream",
          "text": [
            "Mounted at /content/drive\n",
            "langchain version: 0.1.10\n"
          ]
        }
      ],
      "source": [
        "import os\n",
        "import langchain\n",
        "import transformers\n",
        "import sentence_transformers\n",
        "\n",
        "from langchain_community.llms.huggingface_pipeline import HuggingFacePipeline\n",
        "from langchain.chains import LLMChain\n",
        "from langchain.prompts import PromptTemplate\n",
        "from langchain.embeddings import HuggingFaceEmbeddings\n",
        "from langchain.document_loaders import TextLoader, PyPDFLoader, PyPDFDirectoryLoader\n",
        "from langchain.text_splitter import CharacterTextSplitter\n",
        "from langchain.embeddings import HuggingFaceEmbeddings\n",
        "from langchain.vectorstores import Chroma\n",
        "\n",
        "# from langchain.chat_models import ChatOpenAI\n",
        "from langchain_openai import ChatOpenAI\n",
        "\n",
        "from transformers import pipeline, AutoModelForCausalLM, AutoTokenizer, AutoModelForQuestionAnswering, AutoConfig, AutoModel, T5Tokenizer, T5ForConditionalGeneration\n",
        "\n",
        "from google.colab import drive\n",
        "drive.mount('/content/drive')\n",
        "\n",
        "print(f\"langchain version: {langchain.__version__}\")"
      ]
    },
    {
      "cell_type": "markdown",
      "metadata": {
        "id": "DaUQ7TtJLExn"
      },
      "source": [
        "### RAG: Retrieval-Augmented Generation<br>\n"
      ]
    },
    {
      "cell_type": "markdown",
      "metadata": {
        "id": "7dggNH8uIc58"
      },
      "source": [
        "Basic architecture for question-answering pipeline with external knowledge base. RAG model augments the user input (or prompts) by adding the relevant retrieved data in context. This step uses prompt engineering techniques to communicate effectively with the LLM. The augmented prompt allows the large language models to generate an accurate answer to user queries.\n",
        "\n",
        "\n",
        "![rag_architecture.webp](data:image/webp;base64,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)"
      ]
    },
    {
      "cell_type": "markdown",
      "metadata": {
        "id": "EgSB0H5aGnst"
      },
      "source": [
        "#### Exploration of langchain and it's components to generate answer for questions with context\n",
        "* Document loaders, splitting and chunking\n",
        "* Basic vector database and sementic similarity search with embeddings\n",
        "* Integration with Huggingface embeddings, llm models, pipelines and inference\n",
        "* Integration with OPENAI API llm model inference\n"
      ]
    },
    {
      "cell_type": "code",
      "execution_count": 3,
      "metadata": {
        "colab": {
          "base_uri": "https://localhost:8080/"
        },
        "id": "omloVoCRteN1",
        "outputId": "2f25bdee-6bb5-46c6-800f-a7091fc2d51c"
      },
      "outputs": [
        {
          "name": "stdout",
          "output_type": "stream",
          "text": [
            "Total Pages: 21\n"
          ]
        }
      ],
      "source": [
        "doc_directory = '/content/drive/MyDrive/Work/document_question_answering/docs/'\n",
        "\n",
        "# Use the following line for loading .txt/.md files\n",
        "# loader = TextLoader(doc_directory+\"sample_input2.pdf\")\n",
        "\n",
        "# Use the following lines for loading .pdf files\n",
        "# loader = PyPDFLoader(doc_directory+\"sample_school_rules_regulations.pdf\")\n",
        "# docs = loader.load_and_split()\n",
        "loader = PyPDFDirectoryLoader(doc_directory)\n",
        "docs = loader.load() # will auto split into pages\n",
        "print(f\"Total Pages: {len(docs)}\")"
      ]
    },
    {
      "cell_type": "code",
      "execution_count": 4,
      "metadata": {
        "id": "ZFjl2XrixlqT"
      },
      "outputs": [],
      "source": [
        "texts = docs\n",
        "\n",
        "# The following is for .txt files\n",
        "# text_splitter = CharacterTextSplitter(chunk_size=100, chunk_overlap=0)\n",
        "# texts = text_splitter.split_documents(docs)"
      ]
    },
    {
      "cell_type": "markdown",
      "metadata": {
        "id": "I9yL2YWRrAtd"
      },
      "source": [
        "### Embeddings & vector storage"
      ]
    },
    {
      "cell_type": "markdown",
      "metadata": {
        "id": "1m4UXKWYI4S6"
      },
      "source": [
        "We can use different model for document vector storage and retrieval as the model being used for text generation might be missing sentence-transformer embeddings."
      ]
    },
    {
      "cell_type": "code",
      "execution_count": null,
      "metadata": {
        "id": "VVQ0mtZQ04_F"
      },
      "outputs": [],
      "source": [
        "model_name = \"sentence-transformers/all-mpnet-base-v2\"\n",
        "model_kwargs = {'device': 'cpu'}\n",
        "encode_kwargs = {'normalize_embeddings': False}\n",
        "hf_embeddings = HuggingFaceEmbeddings(\n",
        "    model_name=model_name,\n",
        "    model_kwargs=model_kwargs,\n",
        "    encode_kwargs=encode_kwargs\n",
        ")"
      ]
    },
    {
      "cell_type": "code",
      "execution_count": 6,
      "metadata": {
        "colab": {
          "base_uri": "https://localhost:8080/"
        },
        "id": "NICYN7mW1PF-",
        "outputId": "8a5f8eb5-8cfd-4fd7-cbd5-f0aa68b21d3c"
      },
      "outputs": [
        {
          "name": "stdout",
          "output_type": "stream",
          "text": [
            "21 768\n"
          ]
        }
      ],
      "source": [
        "to_embed_texts = []\n",
        "for i in range(len(texts)):\n",
        "    to_embed_texts.append(texts[i].page_content)\n",
        "\n",
        "embedded_texts = hf_embeddings.embed_documents(to_embed_texts)\n",
        "print(len(embedded_texts), len(embedded_texts[0]))\n",
        "\n",
        "doc_vector_db = Chroma.from_documents(texts, hf_embeddings)\n"
      ]
    },
    {
      "cell_type": "markdown",
      "metadata": {
        "id": "QlqgzFTNaYF_"
      },
      "source": [
        "### Model & pipeline definition"
      ]
    },
    {
      "cell_type": "markdown",
      "metadata": {
        "id": "mOpZFB4E-gei"
      },
      "source": [
        "#### Huggingface pipeline"
      ]
    },
    {
      "cell_type": "code",
      "execution_count": null,
      "metadata": {
        "id": "XMENmABistZb"
      },
      "outputs": [],
      "source": [
        "# Specify the model name from hugging face models/\n",
        "model_name = \"TinyLlama/TinyLlama-1.1B-Chat-v1.0\" # other model(s) that worked: [\"google/flan-t5-large\"]\n",
        "\n",
        "# Load the tokenizer associated with the specified model\n",
        "# tokenizer = T5Tokenizer.from_pretrained(model_name, truncation=True, load_in_8_bit=False, device_map=\"auto\")\n",
        "\n",
        "# Load the model\n",
        "# model = T5ForConditionalGeneration.from_pretrained(model_id)\n",
        "\n",
        "# Create a pipeline instance from HugginFace\n",
        "# hf_pipe = pipeline(model=model,tokenizer=tokenizer,task='text-generation',max_length=512,repetition_penalty=1.1)\n",
        "hf_pipe = pipeline(\"text-generation\", model=model_name) # parameters for gpu usage device_map=\"auto\"\n",
        "\n",
        "# Create an instance of the HuggingFacePipeline, wrapping a huggingface pipeline with additional model-specific arguments\n",
        "llm_pipeline = HuggingFacePipeline(pipeline=hf_pipe, model_kwargs={\"temperature\": 0.4, \"max_length\": 512})"
      ]
    },
    {
      "cell_type": "markdown",
      "metadata": {
        "id": "tb4O7JTV-kj5"
      },
      "source": [
        "#### OpenAI API pipeline"
      ]
    },
    {
      "cell_type": "markdown",
      "metadata": {
        "id": "TbFVyV2UJ6kV"
      },
      "source": [
        "**OpenAI offers free trial for it's apis with credit of $5.** Each trial is tied to an account's phone number and available for 3 months since creation."
      ]
    },
    {
      "cell_type": "code",
      "execution_count": 8,
      "metadata": {
        "id": "ZS5PQNU9-ouD"
      },
      "outputs": [],
      "source": [
        "os.environ[\"OPENAI_API_KEY\"] = \"OPENAI-API-KEY\"\n",
        "model_name = \"gpt-3.5-turbo\"\n",
        "openai_llm_pipeline = ChatOpenAI(model_name=model_name)"
      ]
    },
    {
      "cell_type": "markdown",
      "metadata": {
        "id": "FBG738fQbnmd"
      },
      "source": [
        "### Chat Templates"
      ]
    },
    {
      "cell_type": "markdown",
      "metadata": {
        "id": "Wnl_ckNeKgSx"
      },
      "source": [
        "#### HuggingFace pipeline\n",
        "Chat templates can be a bit tricky when trying to use with HuggingFace pipeline.<br>\n",
        "`pipeline.tokenizer.apply_chat_template` returns a `str` created by concatanating the whole dictionary. This `str` then can be passed to langchain's `PromptTemplate.from_template()`. <br>\n",
        "Otherwise this can lead to this issue: https://github.com/langchain-ai/langchain/issues/15884"
      ]
    },
    {
      "cell_type": "code",
      "execution_count": 18,
      "metadata": {
        "id": "7wRZs1tSTDeG"
      },
      "outputs": [],
      "source": [
        "# Use the tokenizer's chat template to format each message - see https://huggingface.co/docs/transformers/main/en/chat_templating\n",
        "hf_message_template = [\n",
        "    {\n",
        "        \"role\": \"system\",\n",
        "        \"content\": \"You are a friendly chatbot, answer. Use the following context if it's available but don't quote from source, phrase in your own words, If you do not know, answer that you don't have knowledge on that. Here is the context: {context}\",\n",
        "    },\n",
        "    {\"role\": \"user\", \"content\": \"{question}\"},\n",
        "]\n",
        "message_template = hf_pipe.tokenizer.apply_chat_template(hf_message_template, tokenize=False, add_generation_prompt=True)\n"
      ]
    },
    {
      "cell_type": "markdown",
      "metadata": {
        "id": "h4ujQMf3aLdr"
      },
      "source": [
        "#### OpenAI API Pipeline"
      ]
    },
    {
      "cell_type": "code",
      "execution_count": 10,
      "metadata": {
        "id": "69K0IEpINpI4"
      },
      "outputs": [],
      "source": [
        "message_template =\"\"\"You are an assistant for question-answering tasks. Use the following pieces of retrieved context to answer the question. If you don't know the answer, just say that you don't know. Be as verbose and educational in your response as possible.\n",
        "    context: {context}\n",
        "    Question: \"{question}\"\n",
        "    Answer:\n",
        "    \"\"\""
      ]
    },
    {
      "cell_type": "markdown",
      "metadata": {
        "id": "LzXdpXTuOJ8S"
      },
      "source": [
        "### Query embedding and context retrieval"
      ]
    },
    {
      "cell_type": "markdown",
      "metadata": {
        "id": "C9xfcmMRL6-7"
      },
      "source": [
        "Before running model to get response, we first need to retrieve chunk from document by searching for similarity with the query. Query also need to be embedded."
      ]
    },
    {
      "cell_type": "code",
      "execution_count": null,
      "metadata": {
        "id": "Gmt9uoxLOJoh"
      },
      "outputs": [],
      "source": [
        "question = \"Can I bring a phone to school ? Are there any restrictions ?\"\n",
        "# question = \"What will happen if I misbehave during class ?\"\n",
        "# question = \"What if a student is late ? By what time a student should be in class ? be specific.\"\n",
        "# question = \"Who is the first president of the usa ?\"\n",
        "\n",
        "question_vector = hf_embeddings.embed_query(question)\n",
        "# print(len(query_vector))\n",
        "\n",
        "\n",
        "similar_docs = doc_vector_db.similarity_search_by_vector(question_vector, k=1)\n",
        "# similar_docs\n",
        "\n",
        "context = similar_docs[0].page_content\n",
        "\n",
        "# Check which page(s) are returned in similarity search\n",
        "for split_page in similar_docs:\n",
        "    print(split_page.metadata)"
      ]
    },
    {
      "cell_type": "code",
      "execution_count": 17,
      "metadata": {
        "colab": {
          "base_uri": "https://localhost:8080/"
        },
        "id": "AhgXhTbq6tfJ",
        "outputId": "6039414f-5ca1-4de3-c443-c70197db0f7b"
      },
      "outputs": [
        {
          "name": "stdout",
          "output_type": "stream",
          "text": [
            " \n",
            "of openin g and regulations for which  are posted.   All unmarked  and unclaimed  article s will \n",
            "be disposed of at the end of each term.  The loss or discover y of any money  or valuable s \n",
            "is to be reporte d to the Assistan t Head or to a Head of Year or, if they are not available,  to \n",
            "a member  of staff.  Valuables found lying abou t are to be handed  in to the School  Office \n",
            "for safe keeping.  Th e borrowing  of any propert y is forbidden,  unles s the owner  has given \n",
            "his prior permission.  All student s are expected to co-operat e in the prevention of theft, not \n",
            "least by safeguarding  their own belongings .  Items of significan t value or large  cash  \n",
            "amounts shoul d not be brought to sc hool. It is recommended that expensive phones, \n",
            "laptops or other items should not be brought to school unless it is necessary. It is essential \n",
            "that expensive items are looked after by the individual and in particular are not left in bags around the school.  \n",
            " Durin g P.E.,  Games , Hous e activitie s and turnout s any valuable s shoul d be handed  to the \n",
            "member  of staff in charge  of that activit y and collecte d at the end of the session . \n",
            " All School  propert y shoul d be treated  with the utmos t respec t at all times .  Any damage \n",
            "whatsoever  should be reported immediately  to the nearest  member  of staff.  \n",
            " Mobil e Devices \n",
            "The carryin g of mobile phones  is permitted  at Whitgift  School  but they may only be used \n",
            "under  tightly  controlled  conditions  as set  out in the Mobile  Devices Acceptable  Use Policy.   \n",
            "Mobile phones should not be out on school premises unless permission is given by a member of staff e.g. to ring home or to record homework.  \n",
            " Mobile phone s are brought  to Whitgift entirely  at the owner’s  risk.  The School  does  not \n",
            "accept responsibilit y for mobile  phone s and parents or guardians shoul d consider  addin g \n",
            "mobile phones to their house insurance in case  of loss. It is also recommended that \n",
            "expensive phones should not be brought into school.  \n",
            " Parent s or guardians shoul d be awar e that the misus e of mobile  phone s will resul t in the \n",
            "confiscation of the phone  for a perio d of time.  Alternativ e arrangements shoul d be made \n",
            "by parents o r guardians to cove r for such an eventuality.    \n",
            " The sending  of offensiv e voicemail, text messages  or image s by mobile  phone \n",
            "constitute s bullyin g and will lead to disciplinar y sanctions.  \n",
            " Miscellaneous  \n",
            "Lase r pens , compute r games and other electrica l device s are not to be brought  to or used \n",
            "at School.   \n",
            " Chewing gum should not be brought or used whilst under School discipline.  \n",
            " Any form of gambling  is forbidden.  \n",
            " Buyin g and sellin g are forbidden,  except  with the authorit y of the relevant  Head of Year or \n",
            "as authorised  by the Headmaster .  Any student  engagin g in sellin g on stole n items either  to \n",
            "another  student  or to someone  outside the School  cannot  expect  to remai n a part of the \n",
            "School  community.   This is a serious  offence and the police  will be informed if necessary.  \n",
            " The possessio n or distribution of pornographi c materia l is strictl y forbidden  at all times \n",
            "and on all occasions when  School  Rules apply.  \n"
          ]
        }
      ],
      "source": [
        "print(context)"
      ]
    },
    {
      "cell_type": "markdown",
      "metadata": {
        "id": "nRBYGPcObrDv"
      },
      "source": [
        "### Inference"
      ]
    },
    {
      "cell_type": "markdown",
      "metadata": {
        "id": "q2rmhaTubwEv"
      },
      "source": [
        "#### With HuggingFace pipeline"
      ]
    },
    {
      "cell_type": "markdown",
      "metadata": {
        "id": "g-QdRZkXMpPh"
      },
      "source": [
        "The following is for directly getting output from a HuggingFace model. **langchain is not involved here**."
      ]
    },
    {
      "cell_type": "code",
      "execution_count": null,
      "metadata": {
        "id": "0tXLTADlXaXC"
      },
      "outputs": [],
      "source": [
        "# Replace placeholders with actual values\n",
        "prompt = message_template.replace(\"{context}\", context).replace(\"{question}\", question)\n",
        "\n",
        "outputs = hf_pipe(prompt, max_new_tokens=256, do_sample=True, temperature=0.7, top_k=50, top_p=0.95)\n",
        "print(outputs[0][\"generated_text\"])"
      ]
    },
    {
      "cell_type": "markdown",
      "metadata": {
        "id": "a8cxM4jGb0pn"
      },
      "source": [
        "#### Through langchain pipeline"
      ]
    },
    {
      "cell_type": "markdown",
      "metadata": {
        "id": "g1zExJdUe8wF"
      },
      "source": [
        "`PromptTemplate.from_template` expects `str`. So, for HuggingFace Pipeline,\n",
        "1. First apply `pipeline.tokenizer.apply_chat_template` on message template. It returns a `str`\n",
        "2. Then create a template from this `str` with lanchain's promptTemplate.\n",
        "3. **Necessary for `TinyLlama/TinyLlama-1.1B-Chat-v1.0` model**. Other models may differ."
      ]
    },
    {
      "cell_type": "code",
      "execution_count": 13,
      "metadata": {
        "colab": {
          "base_uri": "https://localhost:8080/"
        },
        "id": "ShXUqfaRegkU",
        "outputId": "3be7cda1-b774-4d21-ac33-ff4534f37cfb"
      },
      "outputs": [
        {
          "name": "stdout",
          "output_type": "stream",
          "text": [
            "['context', 'question']\n"
          ]
        }
      ],
      "source": [
        "prompt = PromptTemplate.from_template(message_template)\n",
        "print(prompt.input_variables)"
      ]
    },
    {
      "cell_type": "code",
      "execution_count": 14,
      "metadata": {
        "colab": {
          "base_uri": "https://localhost:8080/"
        },
        "id": "mnXhRuVzb4GN",
        "outputId": "0a602e73-085c-46bc-8477-5c633a217fee"
      },
      "outputs": [
        {
          "name": "stdout",
          "output_type": "stream",
          "text": [
            " Yes, you can bring a phone to school, but it should be treated with the utmost respect. Mobile phones should not be out on school premises unless permission is given by a member of staff. Mobile phones should not be used under tightly controlled conditions, and they should not be out on school premises unless permission is given by a member of staff. Mobile phones should not be used for any purpose other than calling home or recording homework. Mobile phones should not be brought into school, and parents or guardians should consider adding mobile phones to their house insurance in case of loss. Mobile phones should not be used for any purpose other than calling home or recording homework.\n"
          ]
        }
      ],
      "source": [
        "# this run is for HuggingFace pipelines\n",
        "query_llm = LLMChain(llm=llm_pipeline, prompt=prompt)\n",
        "response = query_llm.invoke({\"context\":context, \"question\": question})\n",
        "print(response[\"text\"])"
      ]
    },
    {
      "cell_type": "code",
      "execution_count": 16,
      "metadata": {
        "colab": {
          "base_uri": "https://localhost:8080/"
        },
        "id": "48zQaQH5RwtX",
        "outputId": "09950051-545e-4107-f84b-401dc7c922e8"
      },
      "outputs": [
        {
          "name": "stdout",
          "output_type": "stream",
          "text": [
            "Yes, you can bring a phone to school at Whitgift School, but there are specific restrictions and guidelines in place. According to the Mobile Devices policy, the carrying of mobile phones is permitted, but they may only be used under tightly controlled conditions. Specifically, mobile phones should not be out on school premises unless permission is given by a member of staff, such as to ring home or to record homework. \n",
            "\n",
            "It is important to note that mobile phones are brought to Whitgift entirely at the owner's risk, and the school does not accept responsibility for them. Parents or guardians are advised to consider adding mobile phones to their house insurance in case of loss. Additionally, it is recommended that expensive phones should not be brought into school to avoid any potential risks.\n",
            "\n",
            "Furthermore, misuse of mobile phones, such as sending offensive voicemails, text messages, or images, constitutes bullying and will lead to disciplinary sanctions. Parents or guardians should be aware that the misuse of mobile phones may result in the confiscation of the phone for a period of time, and alternative arrangements should be made to cover for such an eventuality.\n",
            "\n",
            "In summary, while phones are allowed at Whitgift School, there are strict guidelines in place regarding their usage and potential consequences for misuse. It is important to follow the rules and guidelines set forth by the school to ensure a safe and respectful learning environment for all students.\n"
          ]
        }
      ],
      "source": [
        "# this run is for openai api\n",
        "query_llm = LLMChain(llm=openai_llm_pipeline, prompt=prompt)\n",
        "response = query_llm.invoke({\"context\":context, \"question\": question})\n",
        "print(response[\"text\"])"
      ]
    }
  ],
  "metadata": {
    "colab": {
      "collapsed_sections": [
        "3T1sSIxFaKiA",
        "q2rmhaTubwEv"
      ],
      "provenance": []
    },
    "kernelspec": {
      "display_name": "Python 3",
      "name": "python3"
    },
    "language_info": {
      "name": "python"
    }
  },
  "nbformat": 4,
  "nbformat_minor": 0
}
